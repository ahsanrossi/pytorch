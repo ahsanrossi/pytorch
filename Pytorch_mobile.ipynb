{
  "nbformat": 4,
  "nbformat_minor": 0,
  "metadata": {
    "colab": {
      "name": "Pytorch mobile.ipynb",
      "provenance": [],
      "authorship_tag": "ABX9TyPKjYWQSp5fMN5TEkm2ceN5",
      "include_colab_link": true
    },
    "kernelspec": {
      "name": "python3",
      "display_name": "Python 3"
    }
  },
  "cells": [
    {
      "cell_type": "markdown",
      "metadata": {
        "id": "view-in-github",
        "colab_type": "text"
      },
      "source": [
        "<a href=\"https://colab.research.google.com/github/ahsanrossi/pytorch/blob/master/Pytorch_mobile.ipynb\" target=\"_parent\"><img src=\"https://colab.research.google.com/assets/colab-badge.svg\" alt=\"Open In Colab\"/></a>"
      ]
    },
    {
      "cell_type": "code",
      "metadata": {
        "id": "8I2x2MJQcmS3",
        "colab_type": "code",
        "colab": {}
      },
      "source": [
        "pytorch mobile"
      ],
      "execution_count": 0,
      "outputs": []
    },
    {
      "cell_type": "markdown",
      "metadata": {
        "id": "IMg6A3yQcpJs",
        "colab_type": "text"
      },
      "source": [
        ""
      ]
    }
  ]
}